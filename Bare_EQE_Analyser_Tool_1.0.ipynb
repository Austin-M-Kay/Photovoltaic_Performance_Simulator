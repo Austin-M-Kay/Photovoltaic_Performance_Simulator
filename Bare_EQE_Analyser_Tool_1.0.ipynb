{
 "cells": [
  {
   "cell_type": "markdown",
   "id": "7e43da0f",
   "metadata": {},
   "source": [
    "<img src=\"Ser-SAM.jpg\" width=\"700\" height=\"500\" align=\"center\"/>"
   ]
  },
  {
   "cell_type": "markdown",
   "id": "9a974571",
   "metadata": {},
   "source": [
    "## A Tool for Estimating Photovoltaic Performance Under Arbitrary Illumination Conditions\n",
    "<br/><br/>\n",
    "_Austin M. Kay$^{\\text{1}}$, Maura Fitzsimons$^{\\text{1}}$, Gregory Burwell$^{\\text{1}}$, Paul Meredith$^{\\text{1}}$, Ardalan Armin$^{\\text{1}}$, & Oskar, J. Sandberg$^{\\text{1}}$_\n",
    "\n",
    "$^{\\text{1}}$Sustainable Advanced Materials (Sêr-SAM), Department of Physics, Swansea University, Singleton Park, Swansea SA2 8PP, United Kingdom\n",
    "\n",
    "__Email__: (A. M. Kay) 954708@swansea.ac.uk; o.j.sandberg@swansea.ac.uk; ardalan.armin@swansea.ac.uk;"
   ]
  },
  {
   "cell_type": "code",
   "execution_count": 2,
   "id": "58099f83",
   "metadata": {
    "scrolled": false
   },
   "outputs": [
    {
     "data": {
      "application/vnd.jupyter.widget-view+json": {
       "model_id": "4f2fddb0e899463f84f2e6040d9fe890",
       "version_major": 2,
       "version_minor": 0
      },
      "text/plain": [
       "IntProgress(value=0, description='Initialisation Progress: ', style=ProgressStyle(description_width='initial')…"
      ]
     },
     "metadata": {},
     "output_type": "display_data"
    },
    {
     "data": {
      "application/vnd.jupyter.widget-view+json": {
       "model_id": "13a5625561044aecb031c5997680586d",
       "version_major": 2,
       "version_minor": 0
      },
      "text/plain": [
       "Tab(children=(HBox(children=(Tab(children=(VBox(children=(VBox(children=(RadioButtons(description='Spectrum:',…"
      ]
     },
     "metadata": {},
     "output_type": "display_data"
    }
   ],
   "source": [
    "%run -i EQE_Analyser_Tool_1.0 ;"
   ]
  }
 ],
 "metadata": {
  "kernelspec": {
   "display_name": "Python 3 (ipykernel)",
   "language": "python",
   "name": "python3"
  },
  "language_info": {
   "codemirror_mode": {
    "name": "ipython",
    "version": 3
   },
   "file_extension": ".py",
   "mimetype": "text/x-python",
   "name": "python",
   "nbconvert_exporter": "python",
   "pygments_lexer": "ipython3",
   "version": "3.9.13"
  }
 },
 "nbformat": 4,
 "nbformat_minor": 5
}
