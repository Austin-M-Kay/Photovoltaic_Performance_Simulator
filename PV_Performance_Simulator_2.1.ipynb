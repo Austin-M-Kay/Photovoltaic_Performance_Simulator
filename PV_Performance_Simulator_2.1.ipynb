{
 "cells": [
  {
   "cell_type": "markdown",
   "id": "7e43da0f",
   "metadata": {},
   "source": [
    "<img src=\"Ser-SAM.jpg\" width=\"700\" height=\"500\" align=\"center\"/>"
   ]
  },
  {
   "cell_type": "markdown",
   "id": "9a974571",
   "metadata": {},
   "source": [
    "## A Tool for Estimating Photovoltaic Performance Under Arbitrary Illumination Conditions\n",
    "<br/><br/>\n",
    "_Austin M. Kay$^{*\\text{1}}$, Maura E. Fitzsimons$^{\\text{1}}$, Shimra N. Ahmed$^{\\text{1}}$, Nicholas Burridge$^{\\text{1}}$, Kieran D. Richards$^{\\text{2}}$, Drew B. Riley$^{\\text{1}}$, Gregory Burwell$^{\\text{1}}$, Paul Meredith$^{\\text{1}}$, Ardalan Armin$^{*\\text{1}}$, & Oskar J. Sandberg$^{*\\text{1},\\text{3}}$_\n",
    "\n",
    "$^{\\text{1}}$Sustainable Advanced Materials (Sêr-SAM), Department of Physics, Swansea University, Singleton Park, Swansea SA2 8PP, United Kingdom\n",
    "\n",
    "$^{\\text{2}}$Department of Chemistry, Swansea University, Singleton Park, Swansea SA2 8PP, United Kingdom\n",
    "\n",
    "$^{\\text{3}}$Physics, Faculty of Science and Engineering, Åbo Akademi University, 20500, Finland\n",
    "\n",
    "__Email__: a.m.kay.954708@swansea.ac.uk; ardalan.armin@swansea.ac.uk; d.b.riley@swansea.ac.uk; oskar.sandberg@abo.fi\n",
    "<br/><br/>\n",
    "\n",
    "See:\n",
    "<br/><br/>\n",
    "1. A.M. Kay, M.E. Fitzsimons, G. Burwell, P. Meredith, A. Armin, & O.J. Sandberg, (__2023__), _The Thermodynamic Limit of Indoor Photovoltaics Based on Energetically Disordered Molecular Semiconductors._ Sol. RRl, 7: 2300277. https://doi.org/10.1002/solr.202300277\n",
    "<br/><br/>\n",
    "1. K. Seunarine, Z. Haymoor, M.A. Spence, G. Burwell, A.M. Kay, P. Meredith, A. Armin, & M.J. Carnie, (__2023__) _Light Power Resource Availability for Energy Harvesting Photovoltaics for Self-Powered IoT_. J. Phys. Energy https://iopscience.iop.org/article/10.1088/2515-7655/ad1764/meta\n",
    "<br/><br/>\n",
    "Run the cell below to initialise and display the user interface. If it does not appear, run the cell below that."
   ]
  },
  {
   "cell_type": "code",
   "execution_count": 3,
   "id": "142fd41e",
   "metadata": {
    "scrolled": false
   },
   "outputs": [
    {
     "data": {
      "application/vnd.jupyter.widget-view+json": {
       "model_id": "fc8b778b4c364b25aab8e893d90415cd",
       "version_major": 2,
       "version_minor": 0
      },
      "text/plain": [
       "Tab(children=(VBox(children=(Tab(children=(VBox(children=(VBox(children=(RadioButtons(description='Spectrum Su…"
      ]
     },
     "metadata": {},
     "output_type": "display_data"
    },
    {
     "name": "stderr",
     "output_type": "stream",
     "text": [
      "C:\\Users\\austi\\Jupyter_Projects\\Photovoltaic_Performance_Simulator\\PV_Performance_Simulator_2.1\\PV_Performance_Simulator_2.1.py:14568: RuntimeWarning: invalid value encountered in double_scalars\n",
      "  Working_Averages = { 'Average Working ' + Label : mean(\n"
     ]
    }
   ],
   "source": [
    "%run -i PV_Performance_Simulator_2.1 ;"
   ]
  },
  {
   "cell_type": "code",
   "execution_count": 2,
   "id": "c3950d12",
   "metadata": {
    "scrolled": false
   },
   "outputs": [
    {
     "data": {
      "application/vnd.jupyter.widget-view+json": {
       "model_id": "ef92466348d04285950606f71683ae85",
       "version_major": 2,
       "version_minor": 0
      },
      "text/plain": [
       "Tab(children=(VBox(children=(Tab(children=(VBox(children=(VBox(children=(RadioButtons(description='Spectrum Su…"
      ]
     },
     "metadata": {},
     "output_type": "display_data"
    }
   ],
   "source": [
    "Full_Interface"
   ]
  }
 ],
 "metadata": {
  "kernelspec": {
   "display_name": "Python 3 (ipykernel)",
   "language": "python",
   "name": "python3"
  },
  "language_info": {
   "codemirror_mode": {
    "name": "ipython",
    "version": 3
   },
   "file_extension": ".py",
   "mimetype": "text/x-python",
   "name": "python",
   "nbconvert_exporter": "python",
   "pygments_lexer": "ipython3",
   "version": "3.9.13"
  }
 },
 "nbformat": 4,
 "nbformat_minor": 5
}
