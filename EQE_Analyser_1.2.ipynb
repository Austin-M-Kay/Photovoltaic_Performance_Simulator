{
 "cells": [
  {
   "cell_type": "markdown",
   "id": "7e43da0f",
   "metadata": {},
   "source": [
    "<img src=\"Ser-SAM.jpg\" width=\"700\" height=\"500\" align=\"center\"/>"
   ]
  },
  {
   "cell_type": "markdown",
   "id": "9a974571",
   "metadata": {},
   "source": [
    "## A Tool for Estimating Photovoltaic Performance Under Arbitrary Illumination Conditions\n",
    "<br/><br/>\n",
    "_Austin M. Kay$^{\\text{1}}$, Maura Fitzsimons$^{\\text{1}}$, Gregory Burwell$^{\\text{1}}$, Paul Meredith$^{\\text{1}}$, Ardalan Armin$^{\\text{1}}$, & Oskar, J. Sandberg$^{\\text{1}}$_\n",
    "\n",
    "$^{\\text{1}}$Sustainable Advanced Materials (Sêr-SAM), Department of Physics, Swansea University, Singleton Park, Swansea SA2 8PP, United Kingdom\n",
    "\n",
    "__Email__: (A. M. Kay) 954708@swansea.ac.uk; o.j.sandberg@swansea.ac.uk; ardalan.armin@swansea.ac.uk;"
   ]
  },
  {
   "cell_type": "code",
   "execution_count": 3,
   "id": "58099f83",
   "metadata": {
    "scrolled": false
   },
   "outputs": [],
   "source": [
    "%run -i EQE_Analyser_1.2 ;"
   ]
  },
  {
   "cell_type": "code",
   "execution_count": 4,
   "id": "27e57268",
   "metadata": {},
   "outputs": [
    {
     "data": {
      "application/vnd.jupyter.widget-view+json": {
       "model_id": "b799b6a88e5343a2ab38a4e4f4d03a0d",
       "version_major": 2,
       "version_minor": 0
      },
      "text/plain": [
       "Tab(children=(VBox(children=(VBox(children=(Checkbox(value=True, description='Band Filling Enabled', style=Des…"
      ]
     },
     "metadata": {},
     "output_type": "display_data"
    }
   ],
   "source": [
    "Full_Interface"
   ]
  }
 ],
 "metadata": {
  "kernelspec": {
   "display_name": "Python 3 (ipykernel)",
   "language": "python",
   "name": "python3"
  },
  "language_info": {
   "codemirror_mode": {
    "name": "ipython",
    "version": 3
   },
   "file_extension": ".py",
   "mimetype": "text/x-python",
   "name": "python",
   "nbconvert_exporter": "python",
   "pygments_lexer": "ipython3",
   "version": "3.9.13"
  }
 },
 "nbformat": 4,
 "nbformat_minor": 5
}
