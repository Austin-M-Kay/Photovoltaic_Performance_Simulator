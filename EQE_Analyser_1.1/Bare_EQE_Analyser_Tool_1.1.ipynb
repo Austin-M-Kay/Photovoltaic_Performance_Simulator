{
 "cells": [
  {
   "cell_type": "markdown",
   "id": "7e43da0f",
   "metadata": {},
   "source": [
    "<img src=\"Ser-SAM.jpg\" width=\"700\" height=\"500\" align=\"center\"/>"
   ]
  },
  {
   "cell_type": "markdown",
   "id": "9a974571",
   "metadata": {},
   "source": [
    "## A Tool for Estimating Photovoltaic Performance Under Arbitrary Illumination Conditions\n",
    "<br/><br/>\n",
    "_Austin M. Kay$^{\\text{1}}$, Maura Fitzsimons$^{\\text{1}}$, Gregory Burwell$^{\\text{1}}$, Paul Meredith$^{\\text{1}}$, Ardalan Armin$^{\\text{1}}$, & Oskar, J. Sandberg$^{\\text{1}}$_\n",
    "\n",
    "$^{\\text{1}}$Sustainable Advanced Materials (Sêr-SAM), Department of Physics, Swansea University, Singleton Park, Swansea SA2 8PP, United Kingdom\n",
    "\n",
    "__Email__: (A. M. Kay) 954708@swansea.ac.uk; o.j.sandberg@swansea.ac.uk; ardalan.armin@swansea.ac.uk;"
   ]
  },
  {
   "cell_type": "code",
   "execution_count": 2,
   "id": "58099f83",
   "metadata": {
    "scrolled": false
   },
   "outputs": [
    {
     "data": {
      "application/vnd.jupyter.widget-view+json": {
       "model_id": "6c4f4dc8c68f4f658f7f0a3720657c14",
       "version_major": 2,
       "version_minor": 0
      },
      "text/plain": [
       "IntProgress(value=0, description='Initialisation Progress: ', style=ProgressStyle(description_width='initial')…"
      ]
     },
     "metadata": {},
     "output_type": "display_data"
    },
    {
     "data": {
      "application/vnd.jupyter.widget-view+json": {
       "model_id": "6e22b57ad5834a839fe16d94d2ebcd74",
       "version_major": 2,
       "version_minor": 0
      },
      "text/plain": [
       "Tab(children=(HBox(children=(Tab(children=(VBox(children=(VBox(children=(RadioButtons(description='Spectrum:',…"
      ]
     },
     "metadata": {},
     "output_type": "display_data"
    }
   ],
   "source": [
    "%run -i EQE_Analyser_Tool_1.1 ;"
   ]
  },
  {
   "cell_type": "code",
   "execution_count": 2,
   "id": "cdb820ca",
   "metadata": {},
   "outputs": [
    {
     "data": {
      "text/plain": [
       "{'AM1.5 G': 100.03693557817755,\n",
       " '2700K LED': 0.151322678991875,\n",
       " '4000K LED': 30.25586666666667,\n",
       " 'CIE LED-B4': 0.31320866666666664,\n",
       " 'Sêr SAM LED': 0.3055096807883543}"
      ]
     },
     "execution_count": 2,
     "metadata": {},
     "output_type": "execute_result"
    }
   ],
   "source": [
    "P_lights"
   ]
  }
 ],
 "metadata": {
  "kernelspec": {
   "display_name": "Python 3 (ipykernel)",
   "language": "python",
   "name": "python3"
  },
  "language_info": {
   "codemirror_mode": {
    "name": "ipython",
    "version": 3
   },
   "file_extension": ".py",
   "mimetype": "text/x-python",
   "name": "python",
   "nbconvert_exporter": "python",
   "pygments_lexer": "ipython3",
   "version": "3.9.13"
  }
 },
 "nbformat": 4,
 "nbformat_minor": 5
}
