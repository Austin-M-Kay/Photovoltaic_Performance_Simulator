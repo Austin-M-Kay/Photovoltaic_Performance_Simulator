{
 "cells": [
  {
   "cell_type": "markdown",
   "id": "7e43da0f",
   "metadata": {},
   "source": [
    "<img src=\"Ser-SAM.jpg\" width=\"700\" height=\"500\" align=\"center\"/>"
   ]
  },
  {
   "cell_type": "markdown",
   "id": "9a974571",
   "metadata": {},
   "source": [
    "## A Tool for Estimating Photovoltaic Performance Under Arbitrary Illumination Conditions\n",
    "<br/><br/>\n",
    "_Austin M. Kay$^{*\\text{1}}$, Maura Fitzsimons$^{\\text{1}}$, Shimra Ahmed$^{\\text{1}}$, Nicholas Burridge$^{\\text{1}}$, Drew B. Riley$^{\\text{1}}$, Gregory Burwell$^{\\text{1}}$, Paul Meredith$^{\\text{1}}$, Ardalan Armin$^{*\\text{1}}$, & Oskar J. Sandberg$^{*\\text{1},\\text{2}}$_\n",
    "\n",
    "$^{\\text{1}}$Sustainable Advanced Materials (Sêr-SAM), Department of Physics, Swansea University, Singleton Park, Swansea SA2 8PP, United Kingdom\n",
    "\n",
    "$^{\\text{2}}$Physics, Faculty of Science and Engineering, Åbo Akademi University, 20500, Finland\n",
    "\n",
    "__Email__: (A. M. Kay) 954708@swansea.ac.uk; o.j.sandberg@swansea.ac.uk; ardalan.armin@swansea.ac.uk;o.j.sandberg@swansea.ac.uk; ardalan.armin@swansea.ac.uk;\n",
    "\n",
    "See _The Thermodynamic Limit of Indoor Photovoltaics Based on Energetically-Disordered Molecular Semiconductors_ at https://doi.org/10.1002/solr.202300277\n",
    "\n",
    "Run the cell below to initialise and display the user interface. If it does not appear, run the cell below that."
   ]
  },
  {
   "cell_type": "code",
   "execution_count": 1,
   "id": "142fd41e",
   "metadata": {
    "scrolled": false
   },
   "outputs": [],
   "source": [
    "%run -i PV_Performance_Simulator_2.0 ;"
   ]
  },
  {
   "cell_type": "code",
   "execution_count": 2,
   "id": "c3950d12",
   "metadata": {
    "scrolled": false
   },
   "outputs": [
    {
     "data": {
      "application/vnd.jupyter.widget-view+json": {
       "model_id": "4f4487baf6734a6e8f888fe37f3d815e",
       "version_major": 2,
       "version_minor": 0
      },
      "text/plain": [
       "Tab(children=(VBox(children=(Tab(children=(VBox(children=(VBox(children=(RadioButtons(description='Spectrum Su…"
      ]
     },
     "metadata": {},
     "output_type": "display_data"
    }
   ],
   "source": [
    "Full_Interface"
   ]
  }
 ],
 "metadata": {
  "kernelspec": {
   "display_name": "Python 3 (ipykernel)",
   "language": "python",
   "name": "python3"
  },
  "language_info": {
   "codemirror_mode": {
    "name": "ipython",
    "version": 3
   },
   "file_extension": ".py",
   "mimetype": "text/x-python",
   "name": "python",
   "nbconvert_exporter": "python",
   "pygments_lexer": "ipython3",
   "version": "3.9.13"
  }
 },
 "nbformat": 4,
 "nbformat_minor": 5
}
